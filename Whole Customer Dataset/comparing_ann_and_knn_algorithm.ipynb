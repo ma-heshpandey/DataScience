{
 "cells": [
  {
   "cell_type": "markdown",
   "id": "be1ad68a-d787-454d-a0ba-1ff89f2099de",
   "metadata": {
    "tags": []
   },
   "source": [
    "# COS60008 Introduction to Data Science\n",
    "## Assignment 3_3, 2024, 1st semester\n",
    "## Student Details:\n",
    "* Name: Mahesh Pandey\n",
    "* Student ID: 105108938\n",
    "* Email: 105108938@student.swin.edu.au\n",
    "* Submission Date: 2024-6-6\n",
    "* Tutelab Class: Monday 8:30"
   ]
  },
  {
   "cell_type": "code",
   "execution_count": 1,
   "id": "aeb180dd-4e66-4f67-aa88-7caeb25e6eb5",
   "metadata": {},
   "outputs": [],
   "source": [
    "import pandas as pd\n",
    "import matplotlib.pyplot as plt\n",
    "import seaborn as sns"
   ]
  },
  {
   "cell_type": "code",
   "execution_count": 2,
   "id": "f5ccda4d-fc12-4aba-95a0-3fb49d5fd4a5",
   "metadata": {},
   "outputs": [],
   "source": [
    "# Loading Data set\n",
    "wholesale_customer_data =pd.read_csv('Wholesale customers data.csv')"
   ]
  },
  {
   "cell_type": "code",
   "execution_count": 3,
   "id": "7b04de29-ec10-4dd0-930e-2b160d35c0d0",
   "metadata": {},
   "outputs": [
    {
     "data": {
      "text/html": [
       "<div>\n",
       "<style scoped>\n",
       "    .dataframe tbody tr th:only-of-type {\n",
       "        vertical-align: middle;\n",
       "    }\n",
       "\n",
       "    .dataframe tbody tr th {\n",
       "        vertical-align: top;\n",
       "    }\n",
       "\n",
       "    .dataframe thead th {\n",
       "        text-align: right;\n",
       "    }\n",
       "</style>\n",
       "<table border=\"1\" class=\"dataframe\">\n",
       "  <thead>\n",
       "    <tr style=\"text-align: right;\">\n",
       "      <th></th>\n",
       "      <th>Channel</th>\n",
       "      <th>Region</th>\n",
       "      <th>Fresh</th>\n",
       "      <th>Milk</th>\n",
       "      <th>Grocery</th>\n",
       "      <th>Frozen</th>\n",
       "      <th>Detergents_Paper</th>\n",
       "      <th>Delicassen</th>\n",
       "    </tr>\n",
       "  </thead>\n",
       "  <tbody>\n",
       "    <tr>\n",
       "      <th>0</th>\n",
       "      <td>2</td>\n",
       "      <td>3</td>\n",
       "      <td>12669</td>\n",
       "      <td>9656</td>\n",
       "      <td>7561</td>\n",
       "      <td>214</td>\n",
       "      <td>2674</td>\n",
       "      <td>1338</td>\n",
       "    </tr>\n",
       "    <tr>\n",
       "      <th>1</th>\n",
       "      <td>2</td>\n",
       "      <td>3</td>\n",
       "      <td>7057</td>\n",
       "      <td>9810</td>\n",
       "      <td>9568</td>\n",
       "      <td>1762</td>\n",
       "      <td>3293</td>\n",
       "      <td>1776</td>\n",
       "    </tr>\n",
       "    <tr>\n",
       "      <th>2</th>\n",
       "      <td>2</td>\n",
       "      <td>3</td>\n",
       "      <td>6353</td>\n",
       "      <td>8808</td>\n",
       "      <td>7684</td>\n",
       "      <td>2405</td>\n",
       "      <td>3516</td>\n",
       "      <td>7844</td>\n",
       "    </tr>\n",
       "    <tr>\n",
       "      <th>3</th>\n",
       "      <td>1</td>\n",
       "      <td>3</td>\n",
       "      <td>13265</td>\n",
       "      <td>1196</td>\n",
       "      <td>4221</td>\n",
       "      <td>6404</td>\n",
       "      <td>507</td>\n",
       "      <td>1788</td>\n",
       "    </tr>\n",
       "    <tr>\n",
       "      <th>4</th>\n",
       "      <td>2</td>\n",
       "      <td>3</td>\n",
       "      <td>22615</td>\n",
       "      <td>5410</td>\n",
       "      <td>7198</td>\n",
       "      <td>3915</td>\n",
       "      <td>1777</td>\n",
       "      <td>5185</td>\n",
       "    </tr>\n",
       "    <tr>\n",
       "      <th>...</th>\n",
       "      <td>...</td>\n",
       "      <td>...</td>\n",
       "      <td>...</td>\n",
       "      <td>...</td>\n",
       "      <td>...</td>\n",
       "      <td>...</td>\n",
       "      <td>...</td>\n",
       "      <td>...</td>\n",
       "    </tr>\n",
       "    <tr>\n",
       "      <th>435</th>\n",
       "      <td>1</td>\n",
       "      <td>3</td>\n",
       "      <td>29703</td>\n",
       "      <td>12051</td>\n",
       "      <td>16027</td>\n",
       "      <td>13135</td>\n",
       "      <td>182</td>\n",
       "      <td>2204</td>\n",
       "    </tr>\n",
       "    <tr>\n",
       "      <th>436</th>\n",
       "      <td>1</td>\n",
       "      <td>3</td>\n",
       "      <td>39228</td>\n",
       "      <td>1431</td>\n",
       "      <td>764</td>\n",
       "      <td>4510</td>\n",
       "      <td>93</td>\n",
       "      <td>2346</td>\n",
       "    </tr>\n",
       "    <tr>\n",
       "      <th>437</th>\n",
       "      <td>2</td>\n",
       "      <td>3</td>\n",
       "      <td>14531</td>\n",
       "      <td>15488</td>\n",
       "      <td>30243</td>\n",
       "      <td>437</td>\n",
       "      <td>14841</td>\n",
       "      <td>1867</td>\n",
       "    </tr>\n",
       "    <tr>\n",
       "      <th>438</th>\n",
       "      <td>1</td>\n",
       "      <td>3</td>\n",
       "      <td>10290</td>\n",
       "      <td>1981</td>\n",
       "      <td>2232</td>\n",
       "      <td>1038</td>\n",
       "      <td>168</td>\n",
       "      <td>2125</td>\n",
       "    </tr>\n",
       "    <tr>\n",
       "      <th>439</th>\n",
       "      <td>1</td>\n",
       "      <td>3</td>\n",
       "      <td>2787</td>\n",
       "      <td>1698</td>\n",
       "      <td>2510</td>\n",
       "      <td>65</td>\n",
       "      <td>477</td>\n",
       "      <td>52</td>\n",
       "    </tr>\n",
       "  </tbody>\n",
       "</table>\n",
       "<p>440 rows × 8 columns</p>\n",
       "</div>"
      ],
      "text/plain": [
       "     Channel  Region  Fresh   Milk  Grocery  Frozen  Detergents_Paper  \\\n",
       "0          2       3  12669   9656     7561     214              2674   \n",
       "1          2       3   7057   9810     9568    1762              3293   \n",
       "2          2       3   6353   8808     7684    2405              3516   \n",
       "3          1       3  13265   1196     4221    6404               507   \n",
       "4          2       3  22615   5410     7198    3915              1777   \n",
       "..       ...     ...    ...    ...      ...     ...               ...   \n",
       "435        1       3  29703  12051    16027   13135               182   \n",
       "436        1       3  39228   1431      764    4510                93   \n",
       "437        2       3  14531  15488    30243     437             14841   \n",
       "438        1       3  10290   1981     2232    1038               168   \n",
       "439        1       3   2787   1698     2510      65               477   \n",
       "\n",
       "     Delicassen  \n",
       "0          1338  \n",
       "1          1776  \n",
       "2          7844  \n",
       "3          1788  \n",
       "4          5185  \n",
       "..          ...  \n",
       "435        2204  \n",
       "436        2346  \n",
       "437        1867  \n",
       "438        2125  \n",
       "439          52  \n",
       "\n",
       "[440 rows x 8 columns]"
      ]
     },
     "execution_count": 3,
     "metadata": {},
     "output_type": "execute_result"
    }
   ],
   "source": [
    "wholesale_customer_data"
   ]
  },
  {
   "cell_type": "code",
   "execution_count": 4,
   "id": "9cfad877-2745-457d-adb0-ea4543df14fb",
   "metadata": {},
   "outputs": [
    {
     "name": "stdout",
     "output_type": "stream",
     "text": [
      "(440, 8)\n",
      "<class 'pandas.core.frame.DataFrame'>\n",
      "RangeIndex: 440 entries, 0 to 439\n",
      "Data columns (total 8 columns):\n",
      " #   Column            Non-Null Count  Dtype\n",
      "---  ------            --------------  -----\n",
      " 0   Channel           440 non-null    int64\n",
      " 1   Region            440 non-null    int64\n",
      " 2   Fresh             440 non-null    int64\n",
      " 3   Milk              440 non-null    int64\n",
      " 4   Grocery           440 non-null    int64\n",
      " 5   Frozen            440 non-null    int64\n",
      " 6   Detergents_Paper  440 non-null    int64\n",
      " 7   Delicassen        440 non-null    int64\n",
      "dtypes: int64(8)\n",
      "memory usage: 27.6 KB\n",
      "None\n",
      "RangeIndex(start=0, stop=440, step=1)\n",
      "\u001b[1m \n",
      "First three data: \u001b[0m\n",
      "   Channel  Region  Fresh  Milk  Grocery  Frozen  Detergents_Paper  Delicassen\n",
      "0        2       3  12669  9656     7561     214              2674        1338\n",
      "1        2       3   7057  9810     9568    1762              3293        1776\n",
      "2        2       3   6353  8808     7684    2405              3516        7844\n",
      "\u001b[1m \n",
      "Last three data: \u001b[0m\n",
      "     Channel  Region  Fresh   Milk  Grocery  Frozen  Detergents_Paper  \\\n",
      "437        2       3  14531  15488    30243     437             14841   \n",
      "438        1       3  10290   1981     2232    1038               168   \n",
      "439        1       3   2787   1698     2510      65               477   \n",
      "\n",
      "     Delicassen  \n",
      "437        1867  \n",
      "438        2125  \n",
      "439          52  \n",
      "\u001b[1m \n",
      "Describing Data: \u001b[0m\n",
      "          Channel      Region          Fresh          Milk       Grocery  \\\n",
      "count  440.000000  440.000000     440.000000    440.000000    440.000000   \n",
      "mean     1.322727    2.543182   12000.297727   5796.265909   7951.277273   \n",
      "std      0.468052    0.774272   12647.328865   7380.377175   9503.162829   \n",
      "min      1.000000    1.000000       3.000000     55.000000      3.000000   \n",
      "25%      1.000000    2.000000    3127.750000   1533.000000   2153.000000   \n",
      "50%      1.000000    3.000000    8504.000000   3627.000000   4755.500000   \n",
      "75%      2.000000    3.000000   16933.750000   7190.250000  10655.750000   \n",
      "max      2.000000    3.000000  112151.000000  73498.000000  92780.000000   \n",
      "\n",
      "             Frozen  Detergents_Paper    Delicassen  \n",
      "count    440.000000        440.000000    440.000000  \n",
      "mean    3071.931818       2881.493182   1524.870455  \n",
      "std     4854.673333       4767.854448   2820.105937  \n",
      "min       25.000000          3.000000      3.000000  \n",
      "25%      742.250000        256.750000    408.250000  \n",
      "50%     1526.000000        816.500000    965.500000  \n",
      "75%     3554.250000       3922.000000   1820.250000  \n",
      "max    60869.000000      40827.000000  47943.000000  \n"
     ]
    }
   ],
   "source": [
    "'''\n",
    "Checking for data\n",
    "'''\n",
    "print(wholesale_customer_data.shape)\n",
    "print(wholesale_customer_data.info())\n",
    "print(wholesale_customer_data.index)\n",
    "print('\\033[1m','\\nFirst three data:','\\033[0m') # '\\033[1m' genertates bold string in terminal output\n",
    "print(wholesale_customer_data.head(3))\n",
    "print('\\033[1m','\\nLast three data:','\\033[0m')\n",
    "print(wholesale_customer_data.tail(3))\n",
    "print('\\033[1m','\\nDescribing Data:','\\033[0m')\n",
    "print(wholesale_customer_data.describe())"
   ]
  },
  {
   "cell_type": "code",
   "execution_count": 5,
   "id": "d7b216d1-da7c-49f9-854c-ae923127b839",
   "metadata": {},
   "outputs": [
    {
     "name": "stdout",
     "output_type": "stream",
     "text": [
      "Numeric columns: ['Fresh', 'Milk', 'Grocery', 'Frozen', 'Detergents_Paper', 'Delicassen']\n",
      "Categorical columns: ['Channel', 'Region']\n"
     ]
    }
   ],
   "source": [
    "# Numeric columns\n",
    "numeric_columns = ['Fresh', 'Milk', 'Grocery', 'Frozen', 'Detergents_Paper', 'Delicassen']\n",
    "\n",
    "# Categorical columns\n",
    "cat_columns = ['Channel', 'Region']\n",
    "\n",
    "print(\"Numeric columns:\", numeric_columns)\n",
    "print(\"Categorical columns:\", cat_columns)"
   ]
  },
  {
   "cell_type": "code",
   "execution_count": 6,
   "id": "00ab74d0-0235-4881-85dc-c8f8fa3e772f",
   "metadata": {
    "tags": []
   },
   "outputs": [],
   "source": [
    "# Converting categorical column into object type for analysis\n",
    "wholesale_customer_data[cat_columns] = wholesale_customer_data[cat_columns].astype(object)"
   ]
  },
  {
   "cell_type": "markdown",
   "id": "2ff83f5b-5f90-4d0c-ad16-a67ac7890076",
   "metadata": {
    "tags": []
   },
   "source": [
    "## Data Cleaning"
   ]
  },
  {
   "cell_type": "code",
   "execution_count": 7,
   "id": "ef173da1-537c-4efe-a678-607852fab489",
   "metadata": {},
   "outputs": [],
   "source": [
    "# Cleaning missing value\n",
    "def clean_missing_value(data):\n",
    "      # Check for missing values\n",
    "    missing_values = data.isnull().sum()\n",
    "    print(\"Missing Value\\n\",missing_values)\n",
    "\n",
    "    # Remove rows or columns with more than 50% missing values\n",
    "    rows_to_drop = missing_values[missing_values > 0.5 * len(data)].index\n",
    "    print(\"rows to drop\",rows_to_drop) # no rows has 50% miswsing values\n",
    "    data.drop(columns=rows_to_drop, inplace=True)  # Drop columns with more than 50% missing values\n",
    "\n",
    "    # For columns with less than 50% missing values\n",
    "    # Fill missing numerical values with mean\n",
    "    numerical_cols = data.select_dtypes(include=['float64', 'int64']).columns\n",
    "    data[numerical_cols] = data[numerical_cols].fillna(wholesale_customer_data[numerical_cols].mean())\n",
    "    \n",
    "    # For categorical columns, Fill missing values with the mode (most frequent value)\n",
    "    categorical_cols = data.select_dtypes(include=['object']).columns\n",
    "    print(categorical_cols)\n",
    "    data[categorical_cols] = data[categorical_cols].fillna(wholesale_customer_data[categorical_cols].mode().iloc[0])\n",
    "    \n",
    "    # Convert back to object data type\n",
    "    data[categorical_cols] = data[categorical_cols].astype('object')\n",
    "    \n",
    "    return data"
   ]
  },
  {
   "cell_type": "code",
   "execution_count": 8,
   "id": "e7d9bb4e-d1b8-483d-9305-f21d855f1a6f",
   "metadata": {
    "tags": []
   },
   "outputs": [],
   "source": [
    "# Handling duplicates\n",
    "def handle_duplicates(data):\n",
    "    # Check for duplicates\n",
    "    duplicates = data.duplicated().sum()\n",
    "    print('\\033[1m','\\nNo of Duplicate Data:','\\033[0m', duplicates)  \n",
    "    \n",
    "    # Drop duplicates\n",
    "    data = data.drop_duplicates()\n",
    "    print(\"data info\")\n",
    "    print(data.info())\n",
    "    return data"
   ]
  },
  {
   "cell_type": "code",
   "execution_count": 9,
   "id": "53c7128f-6a27-4735-b5a5-68a457ea00f4",
   "metadata": {
    "tags": []
   },
   "outputs": [
    {
     "name": "stdout",
     "output_type": "stream",
     "text": [
      "Missing Value\n",
      " Channel             0\n",
      "Region              0\n",
      "Fresh               0\n",
      "Milk                0\n",
      "Grocery             0\n",
      "Frozen              0\n",
      "Detergents_Paper    0\n",
      "Delicassen          0\n",
      "dtype: int64\n",
      "rows to drop Index([], dtype='object')\n",
      "Index(['Channel', 'Region'], dtype='object')\n",
      "\u001b[1m \n",
      "No of Duplicate Data: \u001b[0m 0\n",
      "data info\n",
      "<class 'pandas.core.frame.DataFrame'>\n",
      "RangeIndex: 440 entries, 0 to 439\n",
      "Data columns (total 8 columns):\n",
      " #   Column            Non-Null Count  Dtype \n",
      "---  ------            --------------  ----- \n",
      " 0   Channel           440 non-null    object\n",
      " 1   Region            440 non-null    object\n",
      " 2   Fresh             440 non-null    int64 \n",
      " 3   Milk              440 non-null    int64 \n",
      " 4   Grocery           440 non-null    int64 \n",
      " 5   Frozen            440 non-null    int64 \n",
      " 6   Detergents_Paper  440 non-null    int64 \n",
      " 7   Delicassen        440 non-null    int64 \n",
      "dtypes: int64(6), object(2)\n",
      "memory usage: 27.6+ KB\n",
      "None\n"
     ]
    }
   ],
   "source": [
    "'''\n",
    "Main function to clean data set.\n",
    "'''\n",
    "def clean_data(data):\n",
    "    \n",
    "    # Check for missing values\n",
    "    data = clean_missing_value(data)\n",
    "    \n",
    "    # Handle duplicates\n",
    "    data = handle_duplicates(data)\n",
    "    return data\n",
    "refine_wholesale_customer_data = clean_data(wholesale_customer_data)"
   ]
  },
  {
   "cell_type": "markdown",
   "id": "f62c984c-04f2-4cce-afc4-b29f1d73b2f4",
   "metadata": {},
   "source": [
    "## Task 3 - Extension"
   ]
  },
  {
   "cell_type": "markdown",
   "id": "0d946664-3671-4512-b03d-53b50334279f",
   "metadata": {},
   "source": [
    "### 3.1 Using clustering algorithm\n",
    "##### For the Task3, K-means clustering algorithm is used to determine the clusters in the dataset."
   ]
  },
  {
   "cell_type": "code",
   "execution_count": 10,
   "id": "af8a231d-64fe-425f-9e29-490ca44ea7de",
   "metadata": {
    "tags": []
   },
   "outputs": [],
   "source": [
    "from sklearn.neighbors import KNeighborsClassifier\n",
    "from sklearn.metrics import accuracy_score, precision_score, confusion_matrix\n",
    "from sklearn.model_selection import train_test_split, GridSearchCV\n",
    "from sklearn.neural_network import MLPClassifier\n",
    "from sklearn.preprocessing import LabelEncoder, StandardScaler"
   ]
  },
  {
   "cell_type": "code",
   "execution_count": 11,
   "id": "c67df701-5277-4344-b9f1-66c18a046e09",
   "metadata": {
    "tags": []
   },
   "outputs": [
    {
     "name": "stderr",
     "output_type": "stream",
     "text": [
      "C:\\Users\\mahes\\anaconda3\\Lib\\site-packages\\sklearn\\cluster\\_kmeans.py:1436: UserWarning: KMeans is known to have a memory leak on Windows with MKL, when there are less chunks than available threads. You can avoid it by setting the environment variable OMP_NUM_THREADS=2.\n",
      "  warnings.warn(\n"
     ]
    },
    {
     "data": {
      "image/png": "[encoded data removed]",
      "text/plain": [
       "<Figure size 640x480 with 2 Axes>"
      ]
     },
     "metadata": {},
     "output_type": "display_data"
    }
   ],
   "source": [
    "import os\n",
    "from sklearn.cluster import KMeans\n",
    "import matplotlib.pyplot as plt\n",
    "from sklearn.preprocessing import StandardScaler\n",
    "\n",
    "# Set the number of threads for parallel processing\n",
    "os.environ[\"OMP_NUM_THREADS\"] = \"2\"\n",
    "\n",
    "\n",
    "# Drop categorical features for clustering\n",
    "X_clustering = refine_wholesale_customer_data.drop(columns=['Region', 'Channel'])\n",
    "\n",
    "# Standardize the features\n",
    "scaler = StandardScaler()\n",
    "X_clustering_scaled = scaler.fit_transform(X_clustering)\n",
    "\n",
    "# Apply K-Means clustering\n",
    "kmeans = KMeans(n_clusters=3, random_state=42, n_init=10)  # Explicitly set n_init to suppress the warning\n",
    "cluster_labels = kmeans.fit_predict(X_clustering_scaled)\n",
    "\n",
    "# Visualize the clusters (using only the first two principal components for simplicity)\n",
    "plt.scatter(X_clustering_scaled[:, 0], X_clustering_scaled[:, 1], c=cluster_labels, cmap='viridis')\n",
    "plt.xlabel('Principal Component 1')\n",
    "plt.ylabel('Principal Component 2')\n",
    "plt.title('K-Means Clustering')\n",
    "plt.colorbar(label='Cluster')\n",
    "plt.show()\n"
   ]
  },
  {
   "cell_type": "markdown",
   "id": "f4fecd78-e70a-49c2-a032-002b328cdce1",
   "metadata": {},
   "source": [
    "#### Result:"
   ]
  },
  {
   "cell_type": "markdown",
   "id": "ae0a5530-3b2e-4fe5-855b-014e921a6bb1",
   "metadata": {},
   "source": [
    "The x-axis represents the first principal component, and the y-axis represents the second principal component. These components are the result of a dimensionality reduction technique (PCA).Each color represents a different cluster, and the colors are assigned based on the cluster labels\n",
    "\n",
    "The plot shows three distinct clusters, each marked with a different color.\n",
    "* Cluster 0, represented by green color, appears to be the largest group of points concentrated towards the lower values of both principal components.\n",
    "* Cluster 1, represented by purple color, is scattered more widely across the plot, with points spreading out more than in Cluster 0.\n",
    "* Cluster 2, represented by yellow color, is the smallest and contains a few isolated points that are distinct from the other clusters.\n"
   ]
  },
  {
   "cell_type": "markdown",
   "id": "cff813a5-5692-415e-9007-6bc86029572b",
   "metadata": {},
   "source": [
    "### 3.2 In task 1.3, we predicated the chanel value for classification model, whereas in this task we are predicating the region, making region as the target variable with K-NN and ANN model."
   ]
  },
  {
   "cell_type": "code",
   "execution_count": 12,
   "id": "8858b0d5-f373-4f05-99de-51740dfdd826",
   "metadata": {
    "tags": []
   },
   "outputs": [
    {
     "name": "stdout",
     "output_type": "stream",
     "text": [
      "Best parameters for K-NN: {'metric': 'euclidean', 'n_neighbors': 9, 'weights': 'uniform'}\n",
      "Accuracy (K-NN with best hyperparameters): 0.82\n",
      "Precision (K-NN with best hyperparameters): 0.28\n",
      "Confusion Matrix (K-NN with best hyperparameters):\n",
      " [[ 0  0  9]\n",
      " [ 0  0  5]\n",
      " [ 2  0 72]]\n",
      "Best parameters for ANN: {'activation': 'logistic', 'alpha': 0.0001, 'hidden_layer_sizes': (100,), 'learning_rate': 'constant', 'max_iter': 1000, 'solver': 'adam'}\n",
      "Accuracy (ANN with best hyperparameters): 1.00\n",
      "Precision (ANN with best hyperparameters): 1.00\n",
      "Confusion Matrix (ANN with best hyperparameters):\n",
      " [[ 9  0  0]\n",
      " [ 0  5  0]\n",
      " [ 0  0 74]]\n",
      "\n",
      "Comparison of Models:\n",
      "  Model  Accuracy  Precision\n",
      "0  K-NN  0.818182    0.27907\n",
      "1   ANN  1.000000    1.00000\n"
     ]
    },
    {
     "data": {
      "image/png": "[encoded data removed]",
      "text/plain": [
       "<Figure size 1000x500 with 2 Axes>"
      ]
     },
     "metadata": {},
     "output_type": "display_data"
    }
   ],
   "source": [
    "# Converting categorical labels to integer classes\n",
    "label_encoder = LabelEncoder()\n",
    "refine_wholesale_customer_data['Region'] = label_encoder.fit_transform(refine_wholesale_customer_data['Region'])\n",
    "\n",
    "# Droping irrelevant columns\n",
    "X = refine_wholesale_customer_data.drop(columns=['Channel'])  # Assuming 'Channel' is not relevant\n",
    "y = refine_wholesale_customer_data['Region']\n",
    "\n",
    "# Train-Test Split\n",
    "X_train, X_test, y_train, y_test = train_test_split(X, y, test_size=0.2, random_state=42)\n",
    "\n",
    "# Step 2: Hyperparameter Tuning for K-Nearest Neighbors (K-NN)\n",
    "param_grid_knn = {\n",
    "    'n_neighbors': [3, 5, 7, 9],\n",
    "    'weights': ['uniform', 'distance'],\n",
    "    'metric': ['euclidean', 'manhattan']\n",
    "}\n",
    "\n",
    "grid_search_knn = GridSearchCV(estimator=KNeighborsClassifier(),\n",
    "                               param_grid=param_grid_knn,\n",
    "                               scoring='accuracy',\n",
    "                               cv=5,\n",
    "                               n_jobs=-1)\n",
    "\n",
    "grid_search_knn.fit(X_train, y_train)\n",
    "\n",
    "print(\"Best parameters for K-NN:\", grid_search_knn.best_params_)\n",
    "\n",
    "# Step 3: Modeling Training with Best Hyperparameters for K-NN\n",
    "best_knn_model = grid_search_knn.best_estimator_\n",
    "best_knn_model.fit(X_train, y_train)\n",
    "\n",
    "# Step 4: Model Evaluation for K-NN\n",
    "y_pred_knn = best_knn_model.predict(X_test)\n",
    "accuracy_knn = accuracy_score(y_test, y_pred_knn)\n",
    "precision_knn = precision_score(y_test, y_pred_knn, average='macro', zero_division=0)\n",
    "conf_matrix_knn = confusion_matrix(y_test, y_pred_knn)\n",
    "\n",
    "print(\"Accuracy (K-NN with best hyperparameters): {:.2f}\".format(accuracy_knn))\n",
    "print(\"Precision (K-NN with best hyperparameters): {:.2f}\".format(precision_knn))\n",
    "print(\"Confusion Matrix (K-NN with best hyperparameters):\\n\", conf_matrix_knn)\n",
    "\n",
    "# Step 5: Hyperparameter Tuning for Artificial Neural Network (ANN)\n",
    "param_grid_ann = {\n",
    "    'hidden_layer_sizes': [(100,), (50, 50), (50, 100, 50)],\n",
    "    'activation': ['logistic', 'tanh', 'relu'],\n",
    "    'solver': ['adam', 'sgd'],\n",
    "    'alpha': [0.0001, 0.001, 0.01],\n",
    "    'learning_rate': ['constant', 'adaptive'],\n",
    "    'max_iter': [1000]  # Increase the maximum number of iterations\n",
    "}\n",
    "\n",
    "# Normalization\n",
    "scaler = StandardScaler()\n",
    "X_train_scaled = scaler.fit_transform(X_train)\n",
    "X_test_scaled = scaler.transform(X_test)\n",
    "\n",
    "grid_search_ann = GridSearchCV(estimator=MLPClassifier(random_state=42),\n",
    "                               param_grid=param_grid_ann,\n",
    "                               scoring='accuracy',\n",
    "                               cv=5,\n",
    "                               n_jobs=-1)\n",
    "\n",
    "grid_search_ann.fit(X_train_scaled, y_train)\n",
    "\n",
    "print(\"Best parameters for ANN:\", grid_search_ann.best_params_)\n",
    "\n",
    "# Step 6: Modeling Training with Best Hyperparameters for ANN\n",
    "best_ann_model = grid_search_ann.best_estimator_\n",
    "best_ann_model.fit(X_train_scaled, y_train)\n",
    "\n",
    "# Step 7: Modeling Evaluation for ANN\n",
    "y_pred_ann = best_ann_model.predict(X_test_scaled)\n",
    "accuracy_ann = accuracy_score(y_test, y_pred_ann)\n",
    "precision_ann = precision_score(y_test, y_pred_ann, average='macro', zero_division=0)\n",
    "conf_matrix_ann = confusion_matrix(y_test, y_pred_ann)\n",
    "\n",
    "print(\"Accuracy (ANN with best hyperparameters): {:.2f}\".format(accuracy_ann))\n",
    "print(\"Precision (ANN with best hyperparameters): {:.2f}\".format(precision_ann))\n",
    "print(\"Confusion Matrix (ANN with best hyperparameters):\\n\", conf_matrix_ann)\n",
    "\n",
    "# Step 8: Comparison\n",
    "comparison_df = pd.DataFrame({\n",
    "    'Model': ['K-NN', 'ANN'],\n",
    "    'Accuracy': [accuracy_knn, accuracy_ann],\n",
    "    'Precision': [precision_knn, precision_ann]\n",
    "})\n",
    "\n",
    "print(\"\\nComparison of Models:\")\n",
    "print(comparison_df)\n",
    "\n",
    "# Plot confusion matrix for K-NN\n",
    "plt.figure(figsize=(10, 5))\n",
    "plt.subplot(1, 2, 1)\n",
    "sns.heatmap(conf_matrix_knn, annot=True, fmt='d', cmap='Blues', cbar=False)\n",
    "plt.title('Confusion Matrix for K-NN')\n",
    "plt.xlabel('Predicted')\n",
    "plt.ylabel('Actual')\n",
    "\n",
    "# Plot confusion matrix for ANN\n",
    "plt.subplot(1, 2, 2)\n",
    "sns.heatmap(conf_matrix_ann, annot=True, fmt='d', cmap='Blues', cbar=False)\n",
    "plt.title('Confusion Matrix for ANN')\n",
    "plt.xlabel('Predicted')\n",
    "plt.ylabel('Actual')\n",
    "\n",
    "plt.tight_layout()\n",
    "plt.show()\n"
   ]
  },
  {
   "cell_type": "markdown",
   "id": "1abd3226-2fd8-4e7f-a343-6dddb04cd151",
   "metadata": {},
   "source": [
    "Therefore, here as well for predicting region, ANN is best suited for the wholesale customer dataset."
   ]
  },
  {
   "cell_type": "code",
   "execution_count": null,
   "id": "52ff6e40-f957-47df-89d7-00f34a806a21",
   "metadata": {},
   "outputs": [],
   "source": []
  }
 ],
 "metadata": {
  "kernelspec": {
   "display_name": "Python 3 (ipykernel)",
   "language": "python",
   "name": "python3"
  },
  "language_info": {
   "codemirror_mode": {
    "name": "ipython",
    "version": 3
   },
   "file_extension": ".py",
   "mimetype": "text/x-python",
   "name": "python",
   "nbconvert_exporter": "python",
   "pygments_lexer": "ipython3",
   "version": "3.10.1"
  }
 },
 "nbformat": 4,
 "nbformat_minor": 5
}
